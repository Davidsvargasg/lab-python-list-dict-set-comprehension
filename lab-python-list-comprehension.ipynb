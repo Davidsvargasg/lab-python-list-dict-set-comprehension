{
 "cells": [
  {
   "cell_type": "markdown",
   "id": "25d7736c-ba17-4aff-b6bb-66eba20fbf4e",
   "metadata": {},
   "source": [
    "# Lab | List, Dict and Set Comprehension"
   ]
  },
  {
   "cell_type": "markdown",
   "id": "7dd3cbde-675a-4b81-92c3-f728846dbe06",
   "metadata": {},
   "source": [
    "## Exercise: Managing Customer Orders Optimized with Comprehension"
   ]
  },
  {
   "cell_type": "markdown",
   "id": "5d500160-2fb7-4777-b5e4-09d45ebaf328",
   "metadata": {},
   "source": [
    "In the previous exercise, you developed a program to manage customer orders and inventory. Now, let's take it a step further and incorporate comprehension into your code.\n",
    "\n",
    "Follow the steps below to complete the exercise:\n",
    "\n",
    "1. Review your code from the previous exercise and identify areas where you can apply comprehension to simplify and streamline your code. \n",
    "\n",
    "    - *Hint: Apply it to initialize inventory, updating the inventory and printing the updated inventory.*\n",
    "    \n",
    "    - For example, in initializing the inventory, we could have:\n",
    "    \n",
    "        ```python\n",
    "        def initialize_inventory(products):\n",
    "            inventory = {product: int(input(f\"Enter the quantity of {product}s available: \")) for product in products}\n",
    "            return inventory\n",
    "\n",
    "        ```\n",
    "<br>\n",
    "    \n",
    "    \n",
    "2. Modify the function get_customer_orders so it prompts the user to enter the number of customer orders and gathers the product names using a loop and user input. Use comprehension.\n",
    "\n",
    "3. Add a new function to calculate the total price of the customer order. For each product in customer_orders, prompt the user to enter the price of that product. Use comprehension to calculate the total price. Note: assume that the user can only have 1 unit of each product.\n",
    "\n",
    "4. Modify the update_inventory function to remove the product from the inventory if its quantity becomes zero after fulfilling the customer orders. Use comprehension to filter out the products with a quantity of zero from the inventory.\n",
    "\n",
    "5. Print the total price of the customer order.\n",
    "\n",
    "Your code should produce output similar to the following:\n",
    "\n",
    "```python\n",
    "Enter the quantity of t-shirts available:  5\n",
    "Enter the quantity of mugs available:  4\n",
    "Enter the quantity of hats available:  3\n",
    "Enter the quantity of books available:  2\n",
    "Enter the quantity of keychains available:  1\n",
    "Enter the number of customer orders:  2\n",
    "Enter the name of a product that a customer wants to order:  hat\n",
    "Enter the name of a product that a customer wants to order:  keychain\n",
    "\n",
    "Order Statistics:\n",
    "Total Products Ordered: 2\n",
    "Percentage of Unique Products Ordered: 40.0\n",
    "\n",
    "Updated Inventory:\n",
    "t-shirt: 5\n",
    "mug: 4\n",
    "hat: 2\n",
    "book: 2\n",
    "Enter the price of keychain:  5\n",
    "Enter the price of hat:  10\n",
    "Total Price: 15.0\n",
    "\n",
    "```\n"
   ]
  },
  {
   "cell_type": "code",
   "execution_count": 40,
   "id": "0294fd46",
   "metadata": {},
   "outputs": [
    {
     "data": {
      "text/plain": [
       "{'t-shirt': 5, 'mug': 7, 'hat': 8, 'book': 9, 'keychain': 4}"
      ]
     },
     "execution_count": 40,
     "metadata": {},
     "output_type": "execute_result"
    }
   ],
   "source": [
    "# 1. Review your code from the previous exercise and identify \n",
    "#areas where you can apply comprehension to simplify and \n",
    "#streamline your code. \n",
    "\n",
    "products = [\"t-shirt\", \"mug\", \"hat\", \"book\", \"keychain\"]\n",
    "\n",
    "inventory = {}\n",
    "\n",
    "def initialize_inventory (products):\n",
    "\n",
    "    for product in products:\n",
    "        inventory [product] = int (input(f\"enter the quantity of {product}\"))\n",
    "    return inventory\n",
    "\n",
    "initialize_inventory (products)"
   ]
  },
  {
   "cell_type": "code",
   "execution_count": 41,
   "id": "24d49862",
   "metadata": {},
   "outputs": [
    {
     "data": {
      "text/plain": [
       "{'t-shirt': 2, 'mug': 1, 'hat': 4, 'book': 0, 'keychain': 1}"
      ]
     },
     "execution_count": 41,
     "metadata": {},
     "output_type": "execute_result"
    }
   ],
   "source": [
    "products = [\"t-shirt\", \"mug\", \"hat\", \"book\", \"keychain\"]\n",
    "\n",
    "inventory = {}\n",
    "\n",
    "def initialize_inventory (products):\n",
    "\n",
    "    inventory = {products [e]: int (input(f\"enter the quantity of product\")) for e in range (len(products)) }\n",
    "    return inventory\n",
    "\n",
    "initialize_inventory (products)"
   ]
  },
  {
   "cell_type": "code",
   "execution_count": 42,
   "id": "e781c719",
   "metadata": {},
   "outputs": [
    {
     "data": {
      "text/plain": [
       "{'hat', 'mug'}"
      ]
     },
     "execution_count": 42,
     "metadata": {},
     "output_type": "execute_result"
    }
   ],
   "source": [
    "# 2. Modify the function get_customer_orders so it \n",
    "#prompts the user to enter the number of customer orders and \n",
    "#gathers the product names using a loop and user input.\n",
    "#Use comprehension.\n",
    "\n",
    "customer_orders = set()\n",
    "\n",
    "def get_customer_orders ():\n",
    "    \n",
    "    while True:\n",
    "        answer = input (\"Do you want to add a product?\")\n",
    "        if answer == \"no\":\n",
    "            break\n",
    "        customer_orders.add (input(\"enter a product\"))\n",
    "    \n",
    "    return customer_orders\n",
    "\n",
    "get_customer_orders ()\n"
   ]
  },
  {
   "cell_type": "code",
   "execution_count": 44,
   "id": "78460729",
   "metadata": {},
   "outputs": [
    {
     "data": {
      "text/plain": [
       "{'1', 'hat', 'mug'}"
      ]
     },
     "execution_count": 44,
     "metadata": {},
     "output_type": "execute_result"
    }
   ],
   "source": [
    "\n",
    "\n",
    "def get_customer_orders ():\n",
    "    \n",
    "    customer_orders = set(input(\"enter product\") for _ in range(int(input(\"enter quantity\"))))\n",
    "\n",
    "    return customer_orders\n",
    "\n",
    "get_customer_orders ()"
   ]
  },
  {
   "cell_type": "code",
   "execution_count": 46,
   "id": "088e91f5",
   "metadata": {},
   "outputs": [
    {
     "name": "stdout",
     "output_type": "stream",
     "text": [
      "{'book', 'hat', 'mug'}\n"
     ]
    },
    {
     "data": {
      "text/plain": [
       "18"
      ]
     },
     "execution_count": 46,
     "metadata": {},
     "output_type": "execute_result"
    }
   ],
   "source": [
    "# 3. Add a new function to calculate the total price of \n",
    "#the customer order. For each product in customer_orders, \n",
    "#prompt the user to enter the price of that product. \n",
    "#Use comprehension to calculate the total price. Note: \n",
    "#assume that the user can only have 1 unit of each product.\n",
    "\n",
    "customer_orders = get_customer_orders ()\n",
    "prices = []\n",
    "def total_price_order ():\n",
    "\n",
    "    for product in customer_orders:\n",
    "        price = int(input(\"enter the price\"))\n",
    "        prices.append (price)\n",
    "        total_price = sum(prices)\n",
    "    print(customer_orders)\n",
    "    \n",
    "    return total_price\n",
    "\n",
    "total_price_order ()\n"
   ]
  },
  {
   "cell_type": "code",
   "execution_count": 47,
   "id": "4a2ec381",
   "metadata": {},
   "outputs": [
    {
     "name": "stdout",
     "output_type": "stream",
     "text": [
      "{'t-shirt': 4, 'mug': 4, 'hat': 5, 'book': 2, 'keychain': 8}\n"
     ]
    }
   ],
   "source": [
    "# 4. Modify the update_inventory function to remove the product \n",
    "#from the inventory if its quantity becomes zero after \n",
    "#fulfilling the customer orders. Use comprehension to filter \n",
    "#out the products with a quantity of zero from the inventory.\n",
    "\n",
    "\n",
    "def update_inventory(inventory, customer_order):\n",
    "\n",
    "    for product in customer_order:\n",
    "        if product in inventory:\n",
    "            inventory[product] -= 1\n",
    "    \n",
    "    updated_inventory = {product: quantity for product, quantity in inventory.items() if quantity > 0}\n",
    "    \n",
    "    return updated_inventory\n",
    "\n",
    "inventory = {'t-shirt': 4, 'mug': 5, 'hat': 6, 'book': 3, 'keychain': 8}\n",
    "customer_order = {'book', 'hat', 'mug'}\n",
    "\n",
    "updated_inventory = update_inventory(inventory, customer_order)\n",
    "print(updated_inventory)\n"
   ]
  },
  {
   "cell_type": "code",
   "execution_count": 60,
   "id": "8938c607",
   "metadata": {},
   "outputs": [
    {
     "name": "stdout",
     "output_type": "stream",
     "text": [
      "The total price of the customer order is: 4.25\n"
     ]
    }
   ],
   "source": [
    "# 5. Print the total price of the customer order.\n",
    "\n",
    "total_price = sum([item['quantity'] * item['price'] for item in order])\n",
    "\n",
    "print(f\"The total price of the customer order is: {total_price:.2f}\")"
   ]
  }
 ],
 "metadata": {
  "kernelspec": {
   "display_name": "Python 3 (ipykernel)",
   "language": "python",
   "name": "python3"
  },
  "language_info": {
   "codemirror_mode": {
    "name": "ipython",
    "version": 3
   },
   "file_extension": ".py",
   "mimetype": "text/x-python",
   "name": "python",
   "nbconvert_exporter": "python",
   "pygments_lexer": "ipython3",
   "version": "3.12.4"
  }
 },
 "nbformat": 4,
 "nbformat_minor": 5
}
